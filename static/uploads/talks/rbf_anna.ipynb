{
  "nbformat": 4,
  "nbformat_minor": 0,
  "metadata": {
    "colab": {
      "name": "RBF_NeuralNetwork.ipynb",
      "provenance": [],
      "collapsed_sections": [],
      "toc_visible": true
    },
    "kernelspec": {
      "name": "python3",
      "display_name": "Python 3"
    },
    "language_info": {
      "name": "python"
    }
  },
  "cells": [
    {
      "cell_type": "markdown",
      "metadata": {
        "id": "H2z3k7sAIvFk"
      },
      "source": [
        ""
      ]
    },
    {
      "cell_type": "markdown",
      "metadata": {
        "id": "wCCCrR8YEyof"
      },
      "source": [
        "# Mount the Google Drive"
      ]
    },
    {
      "cell_type": "code",
      "metadata": {
        "colab": {
          "base_uri": "https://localhost:8080/"
        },
        "id": "oaXDqE1yEpfA",
        "outputId": "2cc684dd-c633-4f36-9399-126d9b7d6694"
      },
      "source": [
        "from google.colab import drive\n",
        "drive.mount('/content/drive')"
      ],
      "execution_count": null,
      "outputs": [
        {
          "output_type": "stream",
          "text": [
            "Drive already mounted at /content/drive; to attempt to forcibly remount, call drive.mount(\"/content/drive\", force_remount=True).\n"
          ],
          "name": "stdout"
        }
      ]
    },
    {
      "cell_type": "code",
      "metadata": {
        "id": "xQXCNZEIE2iv"
      },
      "source": [
        "from pathlib import Path\n",
        "import numpy as np\n",
        "import os, sys\n",
        "\n",
        "rbf_path = Path(\"/content/drive/MyDrive/Colab_Projects/RBF_NN_Talk/RBF-Network-Handwritten-Digits\")\n",
        "os.chdir(rbf_path)\n",
        "sys.path.insert(0, str(rbf_path))"
      ],
      "execution_count": null,
      "outputs": []
    },
    {
      "cell_type": "markdown",
      "metadata": {
        "id": "aR2dgyKtHrll"
      },
      "source": [
        "### This is a Nunpy based implemntation. We can do much better using GPU (Tensorflow/pytorch)"
      ]
    },
    {
      "cell_type": "code",
      "metadata": {
        "id": "R--ktVrFFYJW"
      },
      "source": [
        "import numpy as np\n",
        "import time\n",
        "import re\n",
        "import sys\n",
        "import math\n",
        "import matplotlib.pyplot as plt\n",
        "\n",
        "np.set_printoptions(threshold=sys.maxsize, suppress=True)\n",
        "np.random.seed(1)"
      ],
      "execution_count": null,
      "outputs": []
    },
    {
      "cell_type": "markdown",
      "metadata": {
        "id": "6OmVxIN0H7L-"
      },
      "source": [
        "### Read the inputs\n",
        "\n",
        "\n",
        "*   For this demo, we will use the favorite **MNIST** dataset\n",
        "*   60K Training and 10K test data\n",
        "\n",
        "\n",
        "*   We normalize the training data (**WHY?**)"
      ]
    },
    {
      "cell_type": "code",
      "metadata": {
        "id": "PXh-ImZLF_zr"
      },
      "source": [
        "def inputXFromFile(filename, sampleSize):  # SampleSize given for performace enhancement\n",
        "    \"\"\"Inputs the training examples X\"\"\"\n",
        "    inputArray = np.zeros(shape=(sampleSize, 784))  # 784 = pixels of each image\n",
        "    with open(filename, \"r\") as file:\n",
        "        for i in range(sampleSize):\n",
        "            inputList = []\n",
        "            for _ in range(44):  # 44 lines of each example in file\n",
        "                line = file.readline().strip(\"[\").replace(\"]\", \"\")\n",
        "                inputList += line.split()\n",
        "            inputArray[i] = inputList\n",
        "    # print(\"X Input Size:\", inputArray.shape)\n",
        "    return np.divide(inputArray, 255)\n",
        "\n",
        "\n",
        "def inputYFromFile(filename, sampleSize):\n",
        "    \"\"\"Inputs the training examples Y\"\"\"\n",
        "    # for each row, we want a column like [0 0 1 0 ...]\n",
        "    inputArray = np.zeros(shape=(sampleSize, 10))\n",
        "    with open(filename, \"r\") as file:\n",
        "        for i in range(sampleSize):\n",
        "            value = file.readline()\n",
        "            if not value:\n",
        "                break\n",
        "            inputArray[i][int(value)] = 1\n",
        "    # print(\"Y input size:\", inputArray.shape)\n",
        "    return inputArray\n"
      ],
      "execution_count": null,
      "outputs": []
    },
    {
      "cell_type": "markdown",
      "metadata": {
        "id": "n0t_BZX7H_dw"
      },
      "source": [
        "### KMeans Clustering to find the center of each RBFNode\n",
        "\n",
        "### We run KMeans for 15 rounds. Ideally, we may want to run until convergence\n",
        "\n",
        "**Can you propose a measure of convergence?**"
      ]
    },
    {
      "cell_type": "code",
      "metadata": {
        "id": "jiSMIWFoH-Am"
      },
      "source": [
        "def kMeansClustering(K, sampleData):\n",
        "    \"\"\"Find K cluster centeriods of the passed sampleData\n",
        "    \"\"\"\n",
        "    # Randomly select K examples as starting point for centeriods\n",
        "    randIndices = np.random.choice(sampleData.shape[0], size=K, replace=False)\n",
        "    centeriods = sampleData[randIndices, :]\n",
        "\n",
        "    dataSize = 10000\n",
        "    data = sampleData[:dataSize]\n",
        "    for i in range(15):\n",
        "        centeriodSums = np.zeros(shape=centeriods.shape)\n",
        "        centeriodSumsCounter = np.zeros(shape=K)\n",
        "\n",
        "        # 1. Allocate a training example to its nearest centriod\n",
        "        for x in data:\n",
        "             # Get index of closest centeriod to X (minimum of ||C - X||)\n",
        "            index = np.argmin(np.square(centeriods - x).sum(axis=1))\n",
        "            centeriodSums[index] += x\n",
        "            centeriodSumsCounter[index] += 1\n",
        "        \n",
        "        # 2. Reassign the centriods to new means\n",
        "        for i in range(K):\n",
        "            centeriods[i] = centeriodSums[i] / centeriodSumsCounter[i]\n",
        "    \n",
        "    return centeriods\n"
      ],
      "execution_count": null,
      "outputs": []
    },
    {
      "cell_type": "markdown",
      "metadata": {
        "id": "yZKwbNcOIMHT"
      },
      "source": [
        "### RBF Code\n",
        "\n",
        "```\n",
        "loadData: Loads the 60K samples\n",
        "\n",
        "initializeCenters: Run KMeand and find the centers for each RBF Node\n",
        "```\n",
        "\n",
        "**Training**\n",
        "\n",
        "```\n",
        "1.   RBF Network is: ip --> 300 --> 10\n",
        "2.   Initialize 300 centers\n",
        "3.   Weight matrix is [300, 10]\n",
        "4.   In this code, we use Gradient Descent with batchsize=1\n",
        "```\n",
        "\n",
        "**Finally, what should we save to perform inference?**\n",
        "\n",
        "$W =\n",
        " \\begin{pmatrix}\n",
        "  a_{1,1} & a_{1,2} & \\cdots & a_{1,10} \\\\\n",
        "  a_{2,1} & a_{2,2} & \\cdots & a_{2,10} \\\\\n",
        "  \\vdots  & \\vdots  & \\ddots & \\vdots  \\\\\n",
        "  a_{300,1} & a_{300,2} & \\cdots & a_{300,10}\n",
        " \\end{pmatrix}$\n",
        "\n",
        "\n",
        "\n",
        "$o_j(x) = \\sum_{i=1}^{300} exp\\big(\\frac{-1}{\\beta} ||x - c_i||^2\\big) * W_{ji}$\n",
        "\n",
        "$\\mathcal{L}(o,y) = \\frac{1}{2}(o-y)^2$\n",
        "\n",
        "$\\nabla \\mathcal(\\mathcal{L})_{W_{ji}} = (o-y) * exp\\big(\\frac{-1}{\\beta} ||x - c_i||^2\\big)$\n",
        "\n"
      ]
    },
    {
      "cell_type": "code",
      "metadata": {
        "id": "XOzunaP5IIPU"
      },
      "source": [
        "class Network:\n",
        "    def __init__(self):\n",
        "        self.XSize = 0\n",
        "        self.HSize = 300\n",
        "        self.OSize = 10\n",
        "        self.X = []\n",
        "        self.C = []\n",
        "        self.Y = []\n",
        "        self.W = []\n",
        "        # self.B = np.random.uniform(-1, 1, (self.OSize))\n",
        "        self.trainErrors = []\n",
        "        self.testErrors = []\n",
        "\n",
        "    def loadData(self, filenameX, filenameY, sampleSize):\n",
        "        \"\"\"Loads training/test data\\n\n",
        "        Parameters:\\n\n",
        "        - filenameX: filename for X features\\n\n",
        "        - filenameY: filename for Y (labels)\\n\n",
        "        - sampleSize: number of examples in dataset\n",
        "        \"\"\"\n",
        "        self.X = inputXFromFile(filenameX, sampleSize)\n",
        "        self.Y = inputYFromFile(filenameY, sampleSize)\n",
        "        self.XSize = sampleSize\n",
        "\n",
        "    def initializeCenters(self, K, useKMeans):\n",
        "        \"\"\"Initializes Centers (for RBF neurons in hidden layer)\\n\n",
        "        Parameters:\\n\n",
        "        - useKMeans: Set to true to use kMeans clustering to get centroids\n",
        "        \"\"\"\n",
        "        print(\"Initialzing Centers...\")\n",
        "        self.HSize = K      # Since centriods is equal to hidden layer neurons\n",
        "        if useKMeans:\n",
        "            self.C = kMeansClustering(K, self.X)\n",
        "        else:\n",
        "            self.C = self.X[: self.HSize]\n",
        "\n",
        "    def train(self, epochs=1, learnRate=0.5, K=300, useKMeans=False):\n",
        "        \"\"\"Trains the Network\\n\n",
        "        Parameters:\\n\n",
        "        - epochs: Number of epochs or trainings on entire dataset\n",
        "        - learnRate: Learning Rate\n",
        "        - K: Number of centers/centroids\n",
        "        - useKMeans: Set to true to use kMeans clustering to get centroids\n",
        "        \"\"\"\n",
        "        # Initialzing centers and weights\n",
        "        self.initializeCenters(K, useKMeans)\n",
        "        self.W = np.random.uniform(-1, 1, (self.HSize, self.OSize))\n",
        "\n",
        "        self.trainErrors = np.zeros(shape=self.XSize)  # Preallocating numpy array\n",
        "        print(\"Training...\")\n",
        "        for _ in range(epochs):\n",
        "            # Take each data sample from the inputData\n",
        "            for i, x in enumerate(self.X):\n",
        "                HLayer = rbf(x, self.C)\n",
        "                # Multiply the weights to get output for each data\n",
        "                output = np.dot(HLayer, self.W)  # + self.B\n",
        "                error = output - self.Y[i]\n",
        "                self.W = self.W - (learnRate * np.outer(HLayer, error))\n",
        "                # self.B = self.B - (learnRate * error)\n",
        "                self.trainErrors[i] = 0.5 * sum(error ** 2)\n",
        "        print(\"Training done\")\n",
        "        # Saving weights and centers in a file\n",
        "        np.save(\"weights\", self.W)\n",
        "        np.save(\"centers\", self.C)\n",
        "\n",
        "    def predict(self):\n",
        "        \"\"\"Predicts using the Network by the set parameters (weight and\n",
        "        centers) and displays the accuracy\n",
        "        \"\"\"\n",
        "        self.testErrors = np.zeros(shape=self.XSize)  # Preallocating numpy array\n",
        "        print(\"Prediciting...\")\n",
        "        totalAvg = count = correctCount = 0.0\n",
        "        # Take each data sample from the inputData\n",
        "        for count, x in enumerate(self.X):\n",
        "            HLayer = rbf(x, self.C)\n",
        "            output = np.dot(HLayer, self.W)  # + self.B\n",
        "            o = np.argmax(output)\n",
        "            y = np.argmax(self.Y[count])\n",
        "            if o == y:\n",
        "                correctCount += 1\n",
        "\n",
        "            error = output - self.Y[count]\n",
        "            self.testErrors[count] = 0.5 * sum(error ** 2)\n",
        "\n",
        "        totalAvg = (correctCount * 100.0) / (count + 1)\n",
        "        print(f\"Total Avg. Accuracy: {totalAvg} %\")\n"
      ],
      "execution_count": null,
      "outputs": []
    },
    {
      "cell_type": "markdown",
      "metadata": {
        "id": "yiTBStOEIWCz"
      },
      "source": [
        "### RBF code\n",
        "\n",
        "The RBF Node that we have chosen here is \n",
        "\n",
        "$rbf(x,c) = exp\\big(\\frac{-1}{\\beta} ||x - c||^2\\big)$\n",
        "\n",
        "**Quick Question: Why is there a -ve sign inside the Exponential?**\n"
      ]
    },
    {
      "cell_type": "code",
      "metadata": {
        "id": "yaWA_awIIR4x"
      },
      "source": [
        "def rbf(x, C, beta=0.05):\n",
        "    \"\"\"Radial Basis Function\\n\n",
        "    Parameters:\\n\n",
        "    x: a training example\n",
        "    C: centers of used for the hidden layer\n",
        "    \"\"\"\n",
        "    H = np.zeros(shape=(np.shape(C)[0]))\n",
        "    for i, c in enumerate(C):  # For each neuron in H layer\n",
        "        H[i] = math.exp((-1 * beta) * np.dot(x - c, x - c))\n",
        "    return H\n"
      ],
      "execution_count": null,
      "outputs": []
    },
    {
      "cell_type": "markdown",
      "metadata": {
        "id": "KlontVoaIbz6"
      },
      "source": [
        "### Learning Curve\n",
        "\n",
        "We plot the training and test cost. \n",
        "For training, we average over every 100 rounds\n"
      ]
    },
    {
      "cell_type": "code",
      "metadata": {
        "id": "Ill9Uv46IYP7"
      },
      "source": [
        "def plotLearningCurves(trainErrors, testErrors):\n",
        "    \"\"\"Plots the learning curves of both training cost and test cost\n",
        "    \"\"\"\n",
        "    # Averaging over the first {avgSize} examples\n",
        "    avgSize = 100\n",
        "    if type(trainErrors) is np.ndarray:     # if trainError data is available\n",
        "        Jtrain = trainErrors.reshape(-1, avgSize).mean(axis=1)\n",
        "        plt.plot(Jtrain, label='Training Cost')\n",
        "    Jtest = testErrors.reshape(-1, avgSize).mean(axis=1)\n",
        "    plt.plot(Jtest, label='Test Cost')\n",
        "    plt.xlabel(f\"Data examples in {avgSize}s\")\n",
        "    plt.ylabel(\"Cost\")\n",
        "    plt.show()"
      ],
      "execution_count": null,
      "outputs": []
    },
    {
      "cell_type": "code",
      "metadata": {
        "colab": {
          "base_uri": "https://localhost:8080/",
          "height": 619
        },
        "id": "0edWJab7IeD1",
        "outputId": "407190d9-2043-4edc-f37b-603d243108b9"
      },
      "source": [
        "start = time.time()\n",
        "trainDataSize = 60000\n",
        "testDataSize = 10000\n",
        "\n",
        "myNetwork = Network()\n",
        "while True:\n",
        "    print(\"1. Train the RBF Network\\n2. Predict using the RBF Network\")\n",
        "    userInput = input(\"Choose your option: \")\n",
        "    if userInput == \"1\":\n",
        "        print(\"Importing data for training...\")\n",
        "        startTime = time.time()\n",
        "        myNetwork.loadData(\"train.txt\", \"train-labels.txt\", trainDataSize)\n",
        "        print(\n",
        "            f\"{trainDataSize} training examples imported in {time.time()-startTime:.2f} sec\"\n",
        "        )\n",
        "        \n",
        "        startTrainingTime = time.time()\n",
        "        myNetwork.train(epochs=1, learnRate=0.3, K=300, useKMeans=False)\n",
        "        print(f\"Training took: {time.time()-startTrainingTime:.2f} sec\")\n",
        "    elif userInput == \"2\":\n",
        "        # Loading centers and weights from save file\n",
        "        filename = input(\"Enter file name containing weights (default: weights.npy): \")\n",
        "        myNetwork.W = np.load(filename)\n",
        "        myNetwork.C = np.load(\"centers.npy\")\n",
        "\n",
        "        print(\"Importing data for testing...\")\n",
        "        myNetwork.loadData(\"test.txt\", \"test-labels.txt\", testDataSize)\n",
        "        myNetwork.predict()\n",
        "        # Plotting the errors of the first 10000 examples\n",
        "        plotLearningCurves(myNetwork.trainErrors[:10000], myNetwork.testErrors[:10000])\n",
        "    else:\n",
        "        break\n",
        "print(\"Program exited.\")\n"
      ],
      "execution_count": null,
      "outputs": [
        {
          "output_type": "stream",
          "text": [
            "1. Train the RBF Network\n",
            "2. Predict using the RBF Network\n",
            "Choose your option: 1\n",
            "Importing data for training...\n",
            "60000 training examples imported in 11.86 sec\n",
            "Initialzing Centers...\n",
            "Training...\n",
            "Training done\n",
            "Training took: 97.72 sec\n",
            "1. Train the RBF Network\n",
            "2. Predict using the RBF Network\n",
            "Choose your option: 2\n",
            "Enter file name containing weights (default: weights.npy): weights.npy\n",
            "Importing data for testing...\n",
            "Prediciting...\n",
            "Total Avg. Accuracy: 90.07 %\n"
          ],
          "name": "stdout"
        },
        {
          "output_type": "display_data",
          "data": {
            "image/png": "[encoded data removed]",
            "text/plain": [
              "<Figure size 432x288 with 1 Axes>"
            ]
          },
          "metadata": {
            "tags": [],
            "needs_background": "light"
          }
        },
        {
          "output_type": "stream",
          "text": [
            "1. Train the RBF Network\n",
            "2. Predict using the RBF Network\n",
            "Choose your option: 3\n",
            "Program exited.\n"
          ],
          "name": "stdout"
        }
      ]
    },
    {
      "cell_type": "code",
      "metadata": {
        "id": "lwbhc8ntIo9Q"
      },
      "source": [
        ""
      ],
      "execution_count": null,
      "outputs": []
    }
  ]
}